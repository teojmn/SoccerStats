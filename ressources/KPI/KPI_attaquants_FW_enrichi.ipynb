{
 "cells": [
  {
   "cell_type": "markdown",
   "id": "61cd4011",
   "metadata": {},
   "source": [
    "# Analyse des attaquants — KPIs, méthodes, visualisations\n",
    "Notebook pédagogique et analytique basé sur FBref (Big‑5, 2024‑25) et colonnes personnalisées."
   ]
  },
  {
   "cell_type": "markdown",
   "id": "afbc879e",
   "metadata": {},
   "source": [
    "## 0. Chargement des données"
   ]
  },
  {
   "cell_type": "code",
   "execution_count": null,
   "id": "34cf212c",
   "metadata": {},
   "outputs": [],
   "source": [
    "import pandas as pd\n",
    "import numpy as np\n",
    "import matplotlib.pyplot as plt\n",
    "\n",
    "pd.set_option('display.max_columns', 150)\n",
    "df = pd.read_csv(r\"/mnt/data/assembled_data_FW_normalized.csv\")\n",
    "df.head(3)"
   ]
  },
  {
   "cell_type": "markdown",
   "id": "166796e3",
   "metadata": {},
   "source": [
    "## 1. Audit du CSV et filtrage de stabilité\n",
    "On applique un seuil de 600 minutes pour limiter le bruit."
   ]
  },
  {
   "cell_type": "code",
   "execution_count": null,
   "id": "eb46f9a6",
   "metadata": {},
   "outputs": [],
   "source": [
    "df = df.copy()\n",
    "df['minutes'] = df['90s'] * 90\n",
    "base = df[df['minutes'] >= 600].copy()\n",
    "base.shape"
   ]
  },
  {
   "cell_type": "code",
   "execution_count": null,
   "id": "c636bf88",
   "metadata": {},
   "outputs": [],
   "source": [
    "def bar_top(df_in, col, n=15, title=None):\n",
    "    t = df_in[['Player', col]].dropna().sort_values(col, ascending=False).head(n)\n",
    "    fig, ax = plt.subplots(figsize=(9,6))\n",
    "    ax.bar(t['Player'], t[col])\n",
    "    ax.set_title(title or col)\n",
    "    ax.set_xticklabels(t['Player'], rotation=75, ha='right')\n",
    "    ax.set_ylabel(col)\n",
    "    plt.tight_layout()\n",
    "    plt.show()\n",
    "\n",
    "def hist_plot(series, title=None, bins=20):\n",
    "    s = series.dropna()\n",
    "    fig, ax = plt.subplots(figsize=(8,5))\n",
    "    ax.hist(s, bins=bins)\n",
    "    ax.set_title(title or series.name)\n",
    "    ax.set_xlabel(series.name)\n",
    "    ax.set_ylabel(\"Fréquence\")\n",
    "    plt.tight_layout()\n",
    "    plt.show()"
   ]
  },
  {
   "cell_type": "markdown",
   "id": "f807563a",
   "metadata": {},
   "source": [
    "### KPI : npG/90\n",
    "**Pourquoi**: Mesure la finition hors pénalty. Compare des finisseurs sans inflation liée aux pénos.\n",
    "\n",
    "**Formule**: `npG/90 = (Gls − PK) / 90s`"
   ]
  },
  {
   "cell_type": "code",
   "execution_count": null,
   "id": "90ff96fc",
   "metadata": {},
   "outputs": [],
   "source": [
    "base['npG'] = base['Gls'] - base.get('PK', 0)\n",
    "base['npG_per90'] = base['npG'] / base['90s']\n",
    "bar_top(base, 'npG_per90', title='npG/90 — Top 15')\n",
    "base[['Player','Squad','Comp','npG_per90']].sort_values('npG_per90', ascending=False).head(10)"
   ]
  },
  {
   "cell_type": "markdown",
   "id": "861077be",
   "metadata": {},
   "source": [
    "**Interprétation**: valeurs élevées ⇒ meilleure performance pour ce KPI. Toujours croiser avec rôle et minutes."
   ]
  },
  {
   "cell_type": "markdown",
   "id": "e65ed9fd",
   "metadata": {},
   "source": [
    "### KPI : Finishing_Delta_np\n",
    "**Pourquoi**: Sur/sous-performance de finition vs attentes.\n",
    "\n",
    "**Formule**: `Δ = (Gls − PK) − npxG`"
   ]
  },
  {
   "cell_type": "code",
   "execution_count": null,
   "id": "af328d2a",
   "metadata": {},
   "outputs": [],
   "source": [
    "base['npG'] = base['Gls'] - base.get('PK', 0)\n",
    "base['Finishing_Delta_np'] = base['npG'] - base['npxG']\n",
    "bar_top(base, 'Finishing_Delta_np', title='Finishing Δ (npG − npxG) — Top 15')\n",
    "base[['Player','Squad','Comp','Finishing_Delta_np']].sort_values('Finishing_Delta_np', ascending=False).head(10)"
   ]
  },
  {
   "cell_type": "markdown",
   "id": "2443e5d9",
   "metadata": {},
   "source": [
    "**Interprétation**: valeurs élevées ⇒ meilleure performance pour ce KPI. Toujours croiser avec rôle et minutes."
   ]
  },
  {
   "cell_type": "markdown",
   "id": "d3b81d3b",
   "metadata": {},
   "source": [
    "### KPI : Finishing_Ratio_np\n",
    "**Pourquoi**: Étalonne l’écart de finition par la difficulté des tirs.\n",
    "\n",
    "**Formule**: `Ratio = (Gls − PK) / npxG`"
   ]
  },
  {
   "cell_type": "code",
   "execution_count": null,
   "id": "91d67563",
   "metadata": {},
   "outputs": [],
   "source": [
    "base['npG'] = base['Gls'] - base.get('PK', 0)\n",
    "base['Finishing_Ratio_np'] = base['npG'] / base['npxG']\n",
    "series = base['Finishing_Ratio_np'].replace([np.inf, -np.inf], np.nan).dropna()\n",
    "hist_plot(series, title='Finishing Ratio (npG / npxG) — Distribution')\n",
    "base[['Player','Squad','Comp','Finishing_Ratio_np']].sort_values('Finishing_Ratio_np', ascending=False).head(10)"
   ]
  },
  {
   "cell_type": "markdown",
   "id": "674ad033",
   "metadata": {},
   "source": [
    "**Interprétation**: valeurs élevées ⇒ meilleure performance pour ce KPI. Toujours croiser avec rôle et minutes."
   ]
  },
  {
   "cell_type": "markdown",
   "id": "18d1409a",
   "metadata": {},
   "source": [
    "### KPI : Shot_Accuracy\n",
    "**Pourquoi**: Qualité de cadrage.\n",
    "\n",
    "**Formule**: `SoT / Sh`"
   ]
  },
  {
   "cell_type": "code",
   "execution_count": null,
   "id": "d5f205c1",
   "metadata": {},
   "outputs": [],
   "source": [
    "base['Shot_Accuracy'] = base['SoT'] / base['Sh_shooting']\n",
    "hist_plot(base['Shot_Accuracy'], title='Shot Accuracy — Distribution')"
   ]
  },
  {
   "cell_type": "markdown",
   "id": "575531ab",
   "metadata": {},
   "source": [
    "**Interprétation**: valeurs élevées ⇒ meilleure performance pour ce KPI. Toujours croiser avec rôle et minutes."
   ]
  },
  {
   "cell_type": "markdown",
   "id": "312a9e03",
   "metadata": {},
   "source": [
    "### KPI : Shot_Conversion\n",
    "**Pourquoi**: Efficacité au tir.\n",
    "\n",
    "**Formule**: `Gls / Sh`"
   ]
  },
  {
   "cell_type": "code",
   "execution_count": null,
   "id": "072d32c7",
   "metadata": {},
   "outputs": [],
   "source": [
    "base['Shot_Conversion'] = base['Gls'] / base['Sh_shooting']\n",
    "hist_plot(base['Shot_Conversion'], title='Shot Conversion — Distribution')"
   ]
  },
  {
   "cell_type": "markdown",
   "id": "59b8de48",
   "metadata": {},
   "source": [
    "**Interprétation**: valeurs élevées ⇒ meilleure performance pour ce KPI. Toujours croiser avec rôle et minutes."
   ]
  },
  {
   "cell_type": "markdown",
   "id": "944ea4e7",
   "metadata": {},
   "source": [
    "### KPI : npxG_per_Shot\n",
    "**Pourquoi**: Qualité moyenne des tirs.\n",
    "\n",
    "**Formule**: `npxG / Sh`"
   ]
  },
  {
   "cell_type": "code",
   "execution_count": null,
   "id": "57b62895",
   "metadata": {},
   "outputs": [],
   "source": [
    "base['npxG_per_Shot'] = base['npxG'] / base['Sh_shooting']\n",
    "hist_plot(base['npxG_per_Shot'], title='npxG par tir — Distribution')"
   ]
  },
  {
   "cell_type": "markdown",
   "id": "1e58a428",
   "metadata": {},
   "source": [
    "**Interprétation**: valeurs élevées ⇒ meilleure performance pour ce KPI. Toujours croiser avec rôle et minutes."
   ]
  },
  {
   "cell_type": "markdown",
   "id": "0fb62e92",
   "metadata": {},
   "source": [
    "### KPI : Box_Touches_per90\n",
    "**Pourquoi**: Présence dans la surface.\n",
    "\n",
    "**Formule**: `Att Pen_per_90`"
   ]
  },
  {
   "cell_type": "code",
   "execution_count": null,
   "id": "e68c5ea3",
   "metadata": {},
   "outputs": [],
   "source": [
    "base['Box_Touches_per90'] = base.get('Att Pen_per_90', 0)\n",
    "bar_top(base, 'Box_Touches_per90', title='Touches surface/90 — Top 15')"
   ]
  },
  {
   "cell_type": "markdown",
   "id": "edaa9f2e",
   "metadata": {},
   "source": [
    "**Interprétation**: valeurs élevées ⇒ meilleure performance pour ce KPI. Toujours croiser avec rôle et minutes."
   ]
  },
  {
   "cell_type": "markdown",
   "id": "780bf0b0",
   "metadata": {},
   "source": [
    "### KPI : Box_Touch_Share\n",
    "**Pourquoi**: Orientation vers la zone de but.\n",
    "\n",
    "**Formule**: `Att Pen / Touches`"
   ]
  },
  {
   "cell_type": "code",
   "execution_count": null,
   "id": "5e7facb3",
   "metadata": {},
   "outputs": [],
   "source": [
    "base['Box_Touch_Share'] = base.get('Att Pen', 0) / base.get('Touches', 1)\n",
    "hist_plot(base['Box_Touch_Share'], title='Part des touches en surface — Distribution')"
   ]
  },
  {
   "cell_type": "markdown",
   "id": "366d187a",
   "metadata": {},
   "source": [
    "**Interprétation**: valeurs élevées ⇒ meilleure performance pour ce KPI. Toujours croiser avec rôle et minutes."
   ]
  },
  {
   "cell_type": "markdown",
   "id": "eaf0128b",
   "metadata": {},
   "source": [
    "### KPI : Prog_Reception_per90\n",
    "**Pourquoi**: Capacité à recevoir haut.\n",
    "\n",
    "**Formule**: `PrgR_per_90`"
   ]
  },
  {
   "cell_type": "code",
   "execution_count": null,
   "id": "844951f1",
   "metadata": {},
   "outputs": [],
   "source": [
    "base['Prog_Reception_per90'] = base.get('PrgR_per_90', 0)\n",
    "bar_top(base, 'Prog_Reception_per90', title='Réceptions progressives/90 — Top 15')"
   ]
  },
  {
   "cell_type": "markdown",
   "id": "dd068bff",
   "metadata": {},
   "source": [
    "**Interprétation**: valeurs élevées ⇒ meilleure performance pour ce KPI. Toujours croiser avec rôle et minutes."
   ]
  },
  {
   "cell_type": "markdown",
   "id": "4d02f85b",
   "metadata": {},
   "source": [
    "### KPI : Prog_Carries_per90\n",
    "**Pourquoi**: Menace balle au pied.\n",
    "\n",
    "**Formule**: `PrgC_per_90`"
   ]
  },
  {
   "cell_type": "code",
   "execution_count": null,
   "id": "d92f7ea4",
   "metadata": {},
   "outputs": [],
   "source": [
    "base['Prog_Carries_per90'] = base.get('PrgC_per_90', 0)\n",
    "bar_top(base, 'Prog_Carries_per90', title='Conduites progressives/90 — Top 15')"
   ]
  },
  {
   "cell_type": "markdown",
   "id": "1222de48",
   "metadata": {},
   "source": [
    "**Interprétation**: valeurs élevées ⇒ meilleure performance pour ce KPI. Toujours croiser avec rôle et minutes."
   ]
  },
  {
   "cell_type": "markdown",
   "id": "43555b82",
   "metadata": {},
   "source": [
    "### KPI : Carries_into_Box_per90\n",
    "**Pourquoi**: Pénétration surface.\n",
    "\n",
    "**Formule**: `CPA_per_90`"
   ]
  },
  {
   "cell_type": "code",
   "execution_count": null,
   "id": "85c630f8",
   "metadata": {},
   "outputs": [],
   "source": [
    "base['Carries_into_Box_per90'] = base.get('CPA_per_90', 0)\n",
    "bar_top(base, 'Carries_into_Box_per90', title='Entrées balle au pied en surface/90 — Top 15')"
   ]
  },
  {
   "cell_type": "markdown",
   "id": "bfe4f01e",
   "metadata": {},
   "source": [
    "**Interprétation**: valeurs élevées ⇒ meilleure performance pour ce KPI. Toujours croiser avec rôle et minutes."
   ]
  },
  {
   "cell_type": "markdown",
   "id": "bfc2a5ea",
   "metadata": {},
   "source": [
    "### KPI : Crosses_into_Box_per90\n",
    "**Pourquoi**: Centres dangereux.\n",
    "\n",
    "**Formule**: `CrsPA_per_90`"
   ]
  },
  {
   "cell_type": "code",
   "execution_count": null,
   "id": "79b5e840",
   "metadata": {},
   "outputs": [],
   "source": [
    "base['Crosses_into_Box_per90'] = base.get('CrsPA_per_90', 0)\n",
    "bar_top(base, 'Crosses_into_Box_per90', title='Centres vers la surface/90 — Top 15')"
   ]
  },
  {
   "cell_type": "markdown",
   "id": "4be30eba",
   "metadata": {},
   "source": [
    "**Interprétation**: valeurs élevées ⇒ meilleure performance pour ce KPI. Toujours croiser avec rôle et minutes."
   ]
  },
  {
   "cell_type": "markdown",
   "id": "836b0426",
   "metadata": {},
   "source": [
    "### KPI : xGI_per90\n",
    "**Pourquoi**: Menace offensive totale attendue.\n",
    "\n",
    "**Formule**: `xG_per_90 + xAG_per_90`"
   ]
  },
  {
   "cell_type": "code",
   "execution_count": null,
   "id": "65e09fc1",
   "metadata": {},
   "outputs": [],
   "source": [
    "base['xGI_per90'] = base.get('xG_per_90', 0) + base.get('xAG_per_90', 0)\n",
    "bar_top(base, 'xGI_per90', title='xGI/90 — Top 15')"
   ]
  },
  {
   "cell_type": "markdown",
   "id": "a7f19a65",
   "metadata": {},
   "source": [
    "**Interprétation**: valeurs élevées ⇒ meilleure performance pour ce KPI. Toujours croiser avec rôle et minutes."
   ]
  },
  {
   "cell_type": "markdown",
   "id": "f51d1626",
   "metadata": {},
   "source": [
    "### KPI : A_minus_xAG_per90\n",
    "**Pourquoi**: Sur/sous-conversion des receveurs.\n",
    "\n",
    "**Formule**: `A-xAG_per_90`"
   ]
  },
  {
   "cell_type": "code",
   "execution_count": null,
   "id": "c727feb6",
   "metadata": {},
   "outputs": [],
   "source": [
    "base['A_minus_xAG_per90'] = base.get('A-xAG_per_90', 0)\n",
    "hist_plot(base['A_minus_xAG_per90'], title='A − xAG (per 90) — Distribution')"
   ]
  },
  {
   "cell_type": "markdown",
   "id": "c25bb838",
   "metadata": {},
   "source": [
    "**Interprétation**: valeurs élevées ⇒ meilleure performance pour ce KPI. Toujours croiser avec rôle et minutes."
   ]
  },
  {
   "cell_type": "markdown",
   "id": "cc74d7c5",
   "metadata": {},
   "source": [
    "### KPI : Shots_per_BoxTouch\n",
    "**Pourquoi**: Agressivité dans la surface.\n",
    "\n",
    "**Formule**: `Sh / Att Pen`"
   ]
  },
  {
   "cell_type": "code",
   "execution_count": null,
   "id": "2df8f5ed",
   "metadata": {},
   "outputs": [],
   "source": [
    "base['Shots_per_BoxTouch'] = base['Sh_shooting'] / base.get('Att Pen', 1)\n",
    "hist_plot(base['Shots_per_BoxTouch'], title='Tirs par touche en surface — Distribution')"
   ]
  },
  {
   "cell_type": "markdown",
   "id": "d9121380",
   "metadata": {},
   "source": [
    "**Interprétation**: valeurs élevées ⇒ meilleure performance pour ce KPI. Toujours croiser avec rôle et minutes."
   ]
  },
  {
   "cell_type": "markdown",
   "id": "44d34030",
   "metadata": {},
   "source": [
    "### KPI : GA_minus_xGA_np_per90\n",
    "**Pourquoi**: Durabilité probable de la production hors pénos.\n",
    "\n",
    "**Formule**: `RealGA_np/90 − (npxG/90 + xAG/90)`"
   ]
  },
  {
   "cell_type": "code",
   "execution_count": null,
   "id": "e1ae1f57",
   "metadata": {},
   "outputs": [],
   "source": [
    "if 'G+A-PK_per_90' in base.columns:\n",
    "    base['RealGA_np_per90'] = base['G+A-PK_per_90']\n",
    "else:\n",
    "    base['RealGA_np_per90'] = (base['Gls'] + base['Ast'] - base.get('PK',0)) / base['90s']\n",
    "base['xGA_np_per90'] = base.get('npxG_per_90', 0) + base.get('xAG_per_90', 0)\n",
    "base['GA_minus_xGA_np_per90'] = base['RealGA_np_per90'] - base['xGA_np_per90']\n",
    "bar_top(base, 'GA_minus_xGA_np_per90', title='Durabilité réelle − attendue (np) — Top 15')"
   ]
  },
  {
   "cell_type": "markdown",
   "id": "fd63353f",
   "metadata": {},
   "source": [
    "**Interprétation**: valeurs élevées ⇒ meilleure performance pour ce KPI. Toujours croiser avec rôle et minutes."
   ]
  },
  {
   "cell_type": "markdown",
   "id": "b2842eb1",
   "metadata": {},
   "source": [
    "## 3. Colonnes personnalisées\n",
    "Résumé des principales colonnes créées dans ce notebook."
   ]
  },
  {
   "cell_type": "code",
   "execution_count": null,
   "id": "bb4c27ce",
   "metadata": {},
   "outputs": [],
   "source": [
    "custom_desc = {\n",
    "    \"npG\": \"Buts hors pénalty = Gls − PK\",\n",
    "    \"npG_per90\": \"npG ramené à 90 minutes\",\n",
    "    \"Shot_Accuracy\": \"SoT / Sh_shooting\",\n",
    "    \"Shot_Conversion\": \"Gls / Sh_shooting\",\n",
    "    \"npxG_per_Shot\": \"npxG / Sh_shooting\",\n",
    "    \"Finishing_Delta_np\": \"(Gls − PK) − npxG\",\n",
    "    \"Finishing_Ratio_np\": \"(Gls − PK) / npxG\",\n",
    "    \"Box_Touches_per90\": \"Att Pen_per_90\",\n",
    "    \"Box_Touch_Share\": \"Att Pen / Touches\",\n",
    "    \"Prog_Reception_per90\": \"PrgR_per_90\",\n",
    "    \"Prog_Carries_per90\": \"PrgC_per_90\",\n",
    "    \"Prog_Passes_per90\": \"PrgP_per_90\",\n",
    "    \"Carries_into_Box_per90\": \"CPA_per_90\",\n",
    "    \"Crosses_into_Box_per90\": \"CrsPA_per_90\",\n",
    "    \"xGI_per90\": \"xG_per_90 + xAG_per_90\",\n",
    "    \"A_minus_xAG_per90\": \"A-xAG_per_90\",\n",
    "    \"Shots_per_BoxTouch\": \"Sh_shooting / Att Pen\",\n",
    "    \"RealGA_np_per90\": \"(Gls + Ast − PK) / 90s si G+A-PK absente\",\n",
    "    \"xGA_np_per90\": \"npxG_per_90 + xAG_per_90\",\n",
    "    \"GA_minus_xGA_np_per90\": \"RealGA_np_per90 − xGA_np_per90\"\n",
    "}\n",
    "import pandas as pd\n",
    "pd.DataFrame([{\"Colonne\":k, \"Définition\":v} for k,v in custom_desc.items()])"
   ]
  },
  {
   "cell_type": "markdown",
   "id": "1c1ecc4c",
   "metadata": {},
   "source": [
    "## 4. Conclusion\n",
    "- Combiner quantité (xGI/90) et qualité (npxG/Shot, Finishing Δ).\n",
    "- Filtrer par minutes pour robustesse.\n",
    "- Interpréter par rôle: 9, ailier, deuxième attaquant."
   ]
  }
 ],
 "metadata": {},
 "nbformat": 4,
 "nbformat_minor": 5
}
